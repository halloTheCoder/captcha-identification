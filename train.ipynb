{
 "cells": [
  {
   "cell_type": "code",
   "execution_count": 69,
   "metadata": {},
   "outputs": [],
   "source": [
    "%matplotlib inline\n",
    "import cv2\n",
    "import os\n",
    "import pickle\n",
    "import glob\n",
    "from shutil import copy2\n",
    "\n",
    "import numpy as np\n",
    "import matplotlib.pyplot as plt\n",
    "import seaborn as sns\n",
    "from sklearn.model_selection import train_test_split\n",
    "\n",
    "from IPython.display import display, Image, clear_output"
   ]
  },
  {
   "cell_type": "code",
   "execution_count": 129,
   "metadata": {},
   "outputs": [],
   "source": [
    "import keras\n",
    "from keras.models import Sequential, load_model, model_from_json\n",
    "from keras.layers import Conv2D, MaxPool2D\n",
    "from keras.layers import Dense, Flatten, Dropout\n",
    "from keras.callbacks import EarlyStopping, ModelCheckpoint\n",
    "from keras.applications.vgg19 import VGG19\n",
    "from keras.preprocessing.image import ImageDataGenerator\n",
    "from keras.utils.np_utils import to_categorical\n",
    "from keras.applications.imagenet_utils import decode_predictions, preprocess_input\n",
    "from keras import optimizers, losses\n",
    "import keras.backend as K"
   ]
  },
  {
   "cell_type": "code",
   "execution_count": 36,
   "metadata": {},
   "outputs": [],
   "source": [
    "def get_random_img_filepath(location = './extracted letter/'):\n",
    "    folder = np.random.choice(os.listdir(location))\n",
    "    img_filepath = os.path.join(location + folder, np.random.choice(os.listdir(location + folder)))\n",
    "    return img_filepath"
   ]
  },
  {
   "cell_type": "code",
   "execution_count": 94,
   "metadata": {},
   "outputs": [
    {
     "data": {
      "text/plain": [
       "<matplotlib.image.AxesImage at 0x7f38a27e6860>"
      ]
     },
     "execution_count": 94,
     "metadata": {},
     "output_type": "execute_result"
    },
    {
     "data": {
      "image/png": "[encoded data removed]",
      "text/plain": [
       "<Figure size 432x288 with 1 Axes>"
      ]
     },
     "metadata": {},
     "output_type": "display_data"
    }
   ],
   "source": [
    "img = cv2.imread(get_random_img_filepath())\n",
    "plt.imshow(img)"
   ]
  },
  {
   "cell_type": "code",
   "execution_count": 95,
   "metadata": {},
   "outputs": [
    {
     "data": {
      "text/plain": [
       "(17, 14, 3)"
      ]
     },
     "execution_count": 95,
     "metadata": {},
     "output_type": "execute_result"
    }
   ],
   "source": [
    "img.shape"
   ]
  },
  {
   "cell_type": "code",
   "execution_count": 100,
   "metadata": {},
   "outputs": [
    {
     "data": {
      "text/plain": [
       "(100, 100, 3)"
      ]
     },
     "execution_count": 100,
     "metadata": {},
     "output_type": "execute_result"
    }
   ],
   "source": [
    "x = cv2.resize(img, (100, 100))\n",
    "x.shape"
   ]
  },
  {
   "cell_type": "code",
   "execution_count": 101,
   "metadata": {},
   "outputs": [
    {
     "data": {
      "text/plain": [
       "<matplotlib.image.AxesImage at 0x7f38a2684208>"
      ]
     },
     "execution_count": 101,
     "metadata": {},
     "output_type": "execute_result"
    },
    {
     "data": {
      "image/png": "[encoded data removed]",
      "text/plain": [
       "<Figure size 432x288 with 1 Axes>"
      ]
     },
     "metadata": {},
     "output_type": "display_data"
    }
   ],
   "source": [
    "plt.imshow(x)"
   ]
  },
  {
   "cell_type": "code",
   "execution_count": 102,
   "metadata": {},
   "outputs": [],
   "source": [
    "def show_image():\n",
    "    while True:\n",
    "        img_filepath = get_random_img_filepath()\n",
    "\n",
    "        clear_output()\n",
    "        display(Image(img_filepath, width = 100, height = 100))\n",
    "            \n",
    "        num = input('Enter c or q :: ')\n",
    "        if num == 'c':\n",
    "            continue\n",
    "        else:\n",
    "            return"
   ]
  },
  {
   "cell_type": "code",
   "execution_count": 103,
   "metadata": {},
   "outputs": [
    {
     "data": {
      "image/png": "[encoded data removed]",
      "text/plain": [
       "<IPython.core.display.Image object>"
      ]
     },
     "metadata": {
      "image/png": {
       "height": 100,
       "width": 100
      }
     },
     "output_type": "display_data"
    }
   ],
   "source": [
    "show_image()"
   ]
  },
  {
   "cell_type": "markdown",
   "metadata": {},
   "source": [
    "## ----------------------------------------------------------------------------------------------------------------------------------------------------------------"
   ]
  },
  {
   "cell_type": "code",
   "execution_count": 76,
   "metadata": {},
   "outputs": [],
   "source": [
    "for folder in os.listdir('extracted letter/'):\n",
    "    img_filepaths = glob.glob(os.path.join('extracted letter/' + folder, '*'))\n",
    "    X, y = train_test_split(img_filepaths, test_size = 0.2, random_state = 42)\n",
    "    \n",
    "    for x_filepath in X:\n",
    "        train_dest_folder = os.path.join('data/training/', folder)\n",
    "        if not os.path.exists(train_dest_folder):\n",
    "            os.mkdir(train_dest_folder)\n",
    "        copy2(x_filepath, train_dest_folder)\n",
    "    \n",
    "    for y_filepath in y:\n",
    "        test_dest_folder = os.path.join('data/validation/', folder)\n",
    "        if not os.path.exists(test_dest_folder):\n",
    "            os.mkdir(test_dest_folder)\n",
    "        copy2(y_filepath, test_dest_folder)"
   ]
  },
  {
   "cell_type": "markdown",
   "metadata": {},
   "source": [
    "## Whole Data"
   ]
  },
  {
   "cell_type": "code",
   "execution_count": 60,
   "metadata": {},
   "outputs": [
    {
     "data": {
      "text/plain": [
       "[('J', 1115),\n",
       " ('W', 1147),\n",
       " ('V', 1154),\n",
       " ('6', 1160),\n",
       " ('M', 1170),\n",
       " ('F', 1177),\n",
       " ('A', 1188),\n",
       " ('4', 1197),\n",
       " ('L', 1198),\n",
       " ('B', 1199),\n",
       " ('D', 1199),\n",
       " ('U', 1199),\n",
       " ('C', 1202),\n",
       " ('3', 1203),\n",
       " ('2', 1204),\n",
       " ('X', 1207),\n",
       " ('Q', 1208),\n",
       " ('8', 1214),\n",
       " ('Y', 1218),\n",
       " ('K', 1220),\n",
       " ('T', 1220),\n",
       " ('H', 1221),\n",
       " ('R', 1221),\n",
       " ('G', 1224),\n",
       " ('Z', 1226),\n",
       " ('S', 1227),\n",
       " ('5', 1231),\n",
       " ('P', 1244),\n",
       " ('N', 1249),\n",
       " ('E', 1261),\n",
       " ('7', 1284),\n",
       " ('9', 1357)]"
      ]
     },
     "execution_count": 60,
     "metadata": {},
     "output_type": "execute_result"
    }
   ],
   "source": [
    "train_samples = {folder : len(os.listdir('extracted letter/' + folder)) for folder in os.listdir('extracted letter/')}\n",
    "train_samples = sorted(train_samples.items(), key = lambda x : x[1])\n",
    "train_samples"
   ]
  },
  {
   "cell_type": "code",
   "execution_count": 63,
   "metadata": {},
   "outputs": [
    {
     "data": {
      "text/plain": [
       "38744"
      ]
     },
     "execution_count": 63,
     "metadata": {},
     "output_type": "execute_result"
    }
   ],
   "source": [
    "total = sum([v for _, v in train_samples])\n",
    "total"
   ]
  },
  {
   "cell_type": "code",
   "execution_count": 64,
   "metadata": {},
   "outputs": [
    {
     "name": "stdout",
     "output_type": "stream",
     "text": [
      "Total data is 38744\n"
     ]
    }
   ],
   "source": [
    "print('Total data is', total)"
   ]
  },
  {
   "cell_type": "code",
   "execution_count": 67,
   "metadata": {},
   "outputs": [
    {
     "data": {
      "text/plain": [
       "[Text(0,0,'J'),\n",
       " Text(0,0,'W'),\n",
       " Text(0,0,'V'),\n",
       " Text(0,0,'6'),\n",
       " Text(0,0,'M'),\n",
       " Text(0,0,'F'),\n",
       " Text(0,0,'A'),\n",
       " Text(0,0,'4'),\n",
       " Text(0,0,'L'),\n",
       " Text(0,0,'B'),\n",
       " Text(0,0,'D'),\n",
       " Text(0,0,'U'),\n",
       " Text(0,0,'C'),\n",
       " Text(0,0,'3'),\n",
       " Text(0,0,'2'),\n",
       " Text(0,0,'X'),\n",
       " Text(0,0,'Q'),\n",
       " Text(0,0,'8'),\n",
       " Text(0,0,'Y'),\n",
       " Text(0,0,'K'),\n",
       " Text(0,0,'T'),\n",
       " Text(0,0,'H'),\n",
       " Text(0,0,'R'),\n",
       " Text(0,0,'G'),\n",
       " Text(0,0,'Z'),\n",
       " Text(0,0,'S'),\n",
       " Text(0,0,'5'),\n",
       " Text(0,0,'P'),\n",
       " Text(0,0,'N'),\n",
       " Text(0,0,'E'),\n",
       " Text(0,0,'7'),\n",
       " Text(0,0,'9')]"
      ]
     },
     "execution_count": 67,
     "metadata": {},
     "output_type": "execute_result"
    },
    {
     "data": {
      "image/png": "[encoded data removed]",
      "text/plain": [
       "<Figure size 1440x720 with 1 Axes>"
      ]
     },
     "metadata": {},
     "output_type": "display_data"
    }
   ],
   "source": [
    "labels = [k for k, _ in train_samples]\n",
    "\n",
    "fig = plt.figure(figsize= (20, 10))\n",
    "ax = sns.barplot(x = labels, y = [v for _, v in train_samples])\n",
    "for p in ax.patches:\n",
    "    ax.annotate('{:}'.format(int(p.get_height())), (p.get_x()+0.005, p.get_height()+5.0))\n",
    "\n",
    "ax.set_xticklabels(labels = labels, rotation = 90)"
   ]
  },
  {
   "cell_type": "markdown",
   "metadata": {},
   "source": [
    "### For later do sampling to handle little to none imbalanced classes"
   ]
  },
  {
   "cell_type": "markdown",
   "metadata": {},
   "source": [
    "## Training"
   ]
  },
  {
   "cell_type": "code",
   "execution_count": 77,
   "metadata": {},
   "outputs": [
    {
     "data": {
      "text/plain": [
       "[('J', 892),\n",
       " ('W', 917),\n",
       " ('V', 923),\n",
       " ('6', 928),\n",
       " ('M', 936),\n",
       " ('F', 941),\n",
       " ('A', 950),\n",
       " ('4', 957),\n",
       " ('L', 958),\n",
       " ('B', 959),\n",
       " ('D', 959),\n",
       " ('U', 959),\n",
       " ('C', 961),\n",
       " ('3', 962),\n",
       " ('2', 963),\n",
       " ('X', 965),\n",
       " ('Q', 966),\n",
       " ('8', 971),\n",
       " ('Y', 974),\n",
       " ('H', 976),\n",
       " ('K', 976),\n",
       " ('R', 976),\n",
       " ('T', 976),\n",
       " ('G', 979),\n",
       " ('Z', 980),\n",
       " ('S', 981),\n",
       " ('5', 984),\n",
       " ('P', 995),\n",
       " ('N', 999),\n",
       " ('E', 1008),\n",
       " ('7', 1027),\n",
       " ('9', 1085)]"
      ]
     },
     "execution_count": 77,
     "metadata": {},
     "output_type": "execute_result"
    }
   ],
   "source": [
    "training_samples = {folder : len(os.listdir('data/training/' + folder)) for folder in os.listdir('data/training/')}\n",
    "training_samples = sorted(training_samples.items(), key = lambda x : x[1])\n",
    "training_samples"
   ]
  },
  {
   "cell_type": "code",
   "execution_count": 78,
   "metadata": {},
   "outputs": [
    {
     "data": {
      "text/plain": [
       "30983"
      ]
     },
     "execution_count": 78,
     "metadata": {},
     "output_type": "execute_result"
    }
   ],
   "source": [
    "total = sum([v for _, v in training_samples])\n",
    "total"
   ]
  },
  {
   "cell_type": "code",
   "execution_count": 81,
   "metadata": {},
   "outputs": [
    {
     "name": "stdout",
     "output_type": "stream",
     "text": [
      "Total training data is 30983\n"
     ]
    }
   ],
   "source": [
    "print('Total training data is', total)"
   ]
  },
  {
   "cell_type": "code",
   "execution_count": 80,
   "metadata": {},
   "outputs": [
    {
     "data": {
      "text/plain": [
       "[Text(0,0,'J'),\n",
       " Text(0,0,'W'),\n",
       " Text(0,0,'V'),\n",
       " Text(0,0,'6'),\n",
       " Text(0,0,'M'),\n",
       " Text(0,0,'F'),\n",
       " Text(0,0,'A'),\n",
       " Text(0,0,'4'),\n",
       " Text(0,0,'L'),\n",
       " Text(0,0,'B'),\n",
       " Text(0,0,'D'),\n",
       " Text(0,0,'U'),\n",
       " Text(0,0,'C'),\n",
       " Text(0,0,'3'),\n",
       " Text(0,0,'2'),\n",
       " Text(0,0,'X'),\n",
       " Text(0,0,'Q'),\n",
       " Text(0,0,'8'),\n",
       " Text(0,0,'Y'),\n",
       " Text(0,0,'H'),\n",
       " Text(0,0,'K'),\n",
       " Text(0,0,'R'),\n",
       " Text(0,0,'T'),\n",
       " Text(0,0,'G'),\n",
       " Text(0,0,'Z'),\n",
       " Text(0,0,'S'),\n",
       " Text(0,0,'5'),\n",
       " Text(0,0,'P'),\n",
       " Text(0,0,'N'),\n",
       " Text(0,0,'E'),\n",
       " Text(0,0,'7'),\n",
       " Text(0,0,'9')]"
      ]
     },
     "execution_count": 80,
     "metadata": {},
     "output_type": "execute_result"
    },
    {
     "data": {
      "image/png": "[encoded data removed]",
      "text/plain": [
       "<Figure size 1440x720 with 1 Axes>"
      ]
     },
     "metadata": {},
     "output_type": "display_data"
    }
   ],
   "source": [
    "labels = [k for k, _ in training_samples]\n",
    "\n",
    "fig = plt.figure(figsize= (20, 10))\n",
    "ax = sns.barplot(x = labels, y = [v for _, v in training_samples])\n",
    "for p in ax.patches:\n",
    "    ax.annotate('{:}'.format(int(p.get_height())), (p.get_x()+0.005, p.get_height()+5.0))\n",
    "\n",
    "ax.set_xticklabels(labels = labels, rotation = 90)"
   ]
  },
  {
   "cell_type": "markdown",
   "metadata": {},
   "source": [
    "## Testing"
   ]
  },
  {
   "cell_type": "code",
   "execution_count": 82,
   "metadata": {},
   "outputs": [
    {
     "data": {
      "text/plain": [
       "[('J', 223),\n",
       " ('W', 230),\n",
       " ('V', 231),\n",
       " ('6', 232),\n",
       " ('M', 234),\n",
       " ('F', 236),\n",
       " ('A', 238),\n",
       " ('4', 240),\n",
       " ('B', 240),\n",
       " ('D', 240),\n",
       " ('L', 240),\n",
       " ('U', 240),\n",
       " ('2', 241),\n",
       " ('3', 241),\n",
       " ('C', 241),\n",
       " ('Q', 242),\n",
       " ('X', 242),\n",
       " ('8', 243),\n",
       " ('K', 244),\n",
       " ('T', 244),\n",
       " ('Y', 244),\n",
       " ('G', 245),\n",
       " ('H', 245),\n",
       " ('R', 245),\n",
       " ('S', 246),\n",
       " ('Z', 246),\n",
       " ('5', 247),\n",
       " ('P', 249),\n",
       " ('N', 250),\n",
       " ('E', 253),\n",
       " ('7', 257),\n",
       " ('9', 272)]"
      ]
     },
     "execution_count": 82,
     "metadata": {},
     "output_type": "execute_result"
    }
   ],
   "source": [
    "testing_samples = {folder : len(os.listdir('data/validation/' + folder)) for folder in os.listdir('data/validation/')}\n",
    "testing_samples = sorted(testing_samples.items(), key = lambda x : x[1])\n",
    "testing_samples"
   ]
  },
  {
   "cell_type": "code",
   "execution_count": 83,
   "metadata": {},
   "outputs": [
    {
     "data": {
      "text/plain": [
       "7761"
      ]
     },
     "execution_count": 83,
     "metadata": {},
     "output_type": "execute_result"
    }
   ],
   "source": [
    "total = sum([v for _, v in testing_samples])\n",
    "total"
   ]
  },
  {
   "cell_type": "code",
   "execution_count": 84,
   "metadata": {},
   "outputs": [
    {
     "name": "stdout",
     "output_type": "stream",
     "text": [
      "Total validation data is 7761\n"
     ]
    }
   ],
   "source": [
    "print('Total validation data is', total)"
   ]
  },
  {
   "cell_type": "code",
   "execution_count": 85,
   "metadata": {},
   "outputs": [
    {
     "data": {
      "text/plain": [
       "[Text(0,0,'J'),\n",
       " Text(0,0,'W'),\n",
       " Text(0,0,'V'),\n",
       " Text(0,0,'6'),\n",
       " Text(0,0,'M'),\n",
       " Text(0,0,'F'),\n",
       " Text(0,0,'A'),\n",
       " Text(0,0,'4'),\n",
       " Text(0,0,'B'),\n",
       " Text(0,0,'D'),\n",
       " Text(0,0,'L'),\n",
       " Text(0,0,'U'),\n",
       " Text(0,0,'2'),\n",
       " Text(0,0,'3'),\n",
       " Text(0,0,'C'),\n",
       " Text(0,0,'Q'),\n",
       " Text(0,0,'X'),\n",
       " Text(0,0,'8'),\n",
       " Text(0,0,'K'),\n",
       " Text(0,0,'T'),\n",
       " Text(0,0,'Y'),\n",
       " Text(0,0,'G'),\n",
       " Text(0,0,'H'),\n",
       " Text(0,0,'R'),\n",
       " Text(0,0,'S'),\n",
       " Text(0,0,'Z'),\n",
       " Text(0,0,'5'),\n",
       " Text(0,0,'P'),\n",
       " Text(0,0,'N'),\n",
       " Text(0,0,'E'),\n",
       " Text(0,0,'7'),\n",
       " Text(0,0,'9')]"
      ]
     },
     "execution_count": 85,
     "metadata": {},
     "output_type": "execute_result"
    },
    {
     "data": {
      "image/png": "[encoded data removed]",
      "text/plain": [
       "<Figure size 1440x720 with 1 Axes>"
      ]
     },
     "metadata": {},
     "output_type": "display_data"
    }
   ],
   "source": [
    "labels = [k for k, _ in testing_samples]\n",
    "\n",
    "fig = plt.figure(figsize= (20, 10))\n",
    "ax = sns.barplot(x = labels, y = [v for _, v in testing_samples])\n",
    "for p in ax.patches:\n",
    "    ax.annotate('{:}'.format(int(p.get_height())), (p.get_x()+0.005, p.get_height()+5.0))\n",
    "\n",
    "ax.set_xticklabels(labels = labels, rotation = 90)"
   ]
  },
  {
   "cell_type": "markdown",
   "metadata": {},
   "source": [
    "## ----------------------------------------------------------------------------------------------------------------------------------------------------------------"
   ]
  },
  {
   "cell_type": "markdown",
   "metadata": {},
   "source": [
    "## TRAINING"
   ]
  },
  {
   "cell_type": "code",
   "execution_count": 58,
   "metadata": {},
   "outputs": [
    {
     "name": "stdout",
     "output_type": "stream",
     "text": [
      "Keras is using tensorflow as backend\n"
     ]
    }
   ],
   "source": [
    "print('Keras is using', K.backend(), 'as backend')"
   ]
  },
  {
   "cell_type": "code",
   "execution_count": 132,
   "metadata": {},
   "outputs": [],
   "source": [
    "top_categorical_model_wt = '.'\n",
    "finetuned_categorical_model_wt = '.'\n",
    "\n",
    "img_height = 100\n",
    "img_width = 100\n",
    "\n",
    "num_classes = len(os.listdir(train_data_dir))\n",
    "\n",
    "train_data_dir = 'data/training/'\n",
    "val_data_dir = 'data/validation/'\n",
    "\n",
    "train_samples = [len(os.listdir('data/training/' + folder)) for folder in os.listdir('data/training/')]\n",
    "val_samples = [len(os.listdir('data/validation/' + folder)) for folder in os.listdir('data/validation/')]\n",
    "\n",
    "nb_train_samples = sum(train_samples)\n",
    "nb_val_samples = sum(val_samples)\n",
    "\n",
    "epochs = 50"
   ]
  },
  {
   "cell_type": "code",
   "execution_count": 92,
   "metadata": {},
   "outputs": [],
   "source": [
    "if K.image_data_format() == 'channels_last':\n",
    "    input_shape = (img_height, img_width, 3)\n",
    "else:\n",
    "    input_shape = (3, img_height, img_width)"
   ]
  },
  {
   "cell_type": "code",
   "execution_count": 104,
   "metadata": {},
   "outputs": [
    {
     "data": {
      "text/plain": [
       "(100, 100, 3)"
      ]
     },
     "execution_count": 104,
     "metadata": {},
     "output_type": "execute_result"
    }
   ],
   "source": [
    "input_shape"
   ]
  },
  {
   "cell_type": "code",
   "execution_count": 160,
   "metadata": {},
   "outputs": [
    {
     "name": "stdout",
     "output_type": "stream",
     "text": [
      "_________________________________________________________________\n",
      "Layer (type)                 Output Shape              Param #   \n",
      "=================================================================\n",
      "input_3 (InputLayer)         (None, 100, 100, 3)       0         \n",
      "_________________________________________________________________\n",
      "block1_conv1 (Conv2D)        (None, 100, 100, 64)      1792      \n",
      "_________________________________________________________________\n",
      "block1_conv2 (Conv2D)        (None, 100, 100, 64)      36928     \n",
      "_________________________________________________________________\n",
      "block1_pool (MaxPooling2D)   (None, 50, 50, 64)        0         \n",
      "_________________________________________________________________\n",
      "block2_conv1 (Conv2D)        (None, 50, 50, 128)       73856     \n",
      "_________________________________________________________________\n",
      "block2_conv2 (Conv2D)        (None, 50, 50, 128)       147584    \n",
      "_________________________________________________________________\n",
      "block2_pool (MaxPooling2D)   (None, 25, 25, 128)       0         \n",
      "_________________________________________________________________\n",
      "block3_conv1 (Conv2D)        (None, 25, 25, 256)       295168    \n",
      "_________________________________________________________________\n",
      "block3_conv2 (Conv2D)        (None, 25, 25, 256)       590080    \n",
      "_________________________________________________________________\n",
      "block3_conv3 (Conv2D)        (None, 25, 25, 256)       590080    \n",
      "_________________________________________________________________\n",
      "block3_conv4 (Conv2D)        (None, 25, 25, 256)       590080    \n",
      "_________________________________________________________________\n",
      "block3_pool (MaxPooling2D)   (None, 12, 12, 256)       0         \n",
      "_________________________________________________________________\n",
      "block4_conv1 (Conv2D)        (None, 12, 12, 512)       1180160   \n",
      "_________________________________________________________________\n",
      "block4_conv2 (Conv2D)        (None, 12, 12, 512)       2359808   \n",
      "_________________________________________________________________\n",
      "block4_conv3 (Conv2D)        (None, 12, 12, 512)       2359808   \n",
      "_________________________________________________________________\n",
      "block4_conv4 (Conv2D)        (None, 12, 12, 512)       2359808   \n",
      "_________________________________________________________________\n",
      "block4_pool (MaxPooling2D)   (None, 6, 6, 512)         0         \n",
      "_________________________________________________________________\n",
      "block5_conv1 (Conv2D)        (None, 6, 6, 512)         2359808   \n",
      "_________________________________________________________________\n",
      "block5_conv2 (Conv2D)        (None, 6, 6, 512)         2359808   \n",
      "_________________________________________________________________\n",
      "block5_conv3 (Conv2D)        (None, 6, 6, 512)         2359808   \n",
      "_________________________________________________________________\n",
      "block5_conv4 (Conv2D)        (None, 6, 6, 512)         2359808   \n",
      "_________________________________________________________________\n",
      "block5_pool (MaxPooling2D)   (None, 3, 3, 512)         0         \n",
      "=================================================================\n",
      "Total params: 20,024,384\n",
      "Trainable params: 20,024,384\n",
      "Non-trainable params: 0\n",
      "_________________________________________________________________\n"
     ]
    }
   ],
   "source": [
    "base_model = VGG19(include_top = False, weights = 'imagenet', input_shape = input_shape)\n",
    "base_model.summary()"
   ]
  },
  {
   "cell_type": "code",
   "execution_count": 161,
   "metadata": {},
   "outputs": [],
   "source": [
    "for layer in base_model.layers:\n",
    "    layer.trainable = False"
   ]
  },
  {
   "cell_type": "code",
   "execution_count": 162,
   "metadata": {},
   "outputs": [
    {
     "name": "stdout",
     "output_type": "stream",
     "text": [
      "_________________________________________________________________\n",
      "Layer (type)                 Output Shape              Param #   \n",
      "=================================================================\n",
      "input_3 (InputLayer)         (None, 100, 100, 3)       0         \n",
      "_________________________________________________________________\n",
      "block1_conv1 (Conv2D)        (None, 100, 100, 64)      1792      \n",
      "_________________________________________________________________\n",
      "block1_conv2 (Conv2D)        (None, 100, 100, 64)      36928     \n",
      "_________________________________________________________________\n",
      "block1_pool (MaxPooling2D)   (None, 50, 50, 64)        0         \n",
      "_________________________________________________________________\n",
      "block2_conv1 (Conv2D)        (None, 50, 50, 128)       73856     \n",
      "_________________________________________________________________\n",
      "block2_conv2 (Conv2D)        (None, 50, 50, 128)       147584    \n",
      "_________________________________________________________________\n",
      "block2_pool (MaxPooling2D)   (None, 25, 25, 128)       0         \n",
      "_________________________________________________________________\n",
      "block3_conv1 (Conv2D)        (None, 25, 25, 256)       295168    \n",
      "_________________________________________________________________\n",
      "block3_conv2 (Conv2D)        (None, 25, 25, 256)       590080    \n",
      "_________________________________________________________________\n",
      "block3_conv3 (Conv2D)        (None, 25, 25, 256)       590080    \n",
      "_________________________________________________________________\n",
      "block3_conv4 (Conv2D)        (None, 25, 25, 256)       590080    \n",
      "_________________________________________________________________\n",
      "block3_pool (MaxPooling2D)   (None, 12, 12, 256)       0         \n",
      "_________________________________________________________________\n",
      "block4_conv1 (Conv2D)        (None, 12, 12, 512)       1180160   \n",
      "_________________________________________________________________\n",
      "block4_conv2 (Conv2D)        (None, 12, 12, 512)       2359808   \n",
      "_________________________________________________________________\n",
      "block4_conv3 (Conv2D)        (None, 12, 12, 512)       2359808   \n",
      "_________________________________________________________________\n",
      "block4_conv4 (Conv2D)        (None, 12, 12, 512)       2359808   \n",
      "_________________________________________________________________\n",
      "block4_pool (MaxPooling2D)   (None, 6, 6, 512)         0         \n",
      "_________________________________________________________________\n",
      "block5_conv1 (Conv2D)        (None, 6, 6, 512)         2359808   \n",
      "_________________________________________________________________\n",
      "block5_conv2 (Conv2D)        (None, 6, 6, 512)         2359808   \n",
      "_________________________________________________________________\n",
      "block5_conv3 (Conv2D)        (None, 6, 6, 512)         2359808   \n",
      "_________________________________________________________________\n",
      "block5_conv4 (Conv2D)        (None, 6, 6, 512)         2359808   \n",
      "_________________________________________________________________\n",
      "block5_pool (MaxPooling2D)   (None, 3, 3, 512)         0         \n",
      "=================================================================\n",
      "Total params: 20,024,384\n",
      "Trainable params: 0\n",
      "Non-trainable params: 20,024,384\n",
      "_________________________________________________________________\n"
     ]
    }
   ],
   "source": [
    "base_model.summary()"
   ]
  },
  {
   "cell_type": "code",
   "execution_count": 183,
   "metadata": {},
   "outputs": [],
   "source": [
    "def save_bottleneck_features(force = False):\n",
    "    datagen = ImageDataGenerator(preprocess_input)\n",
    "    \n",
    "    if os.path.exists('bottleneck_features_train.npy') and not force:\n",
    "        print('bottleneck_features_train.npy already exists')\n",
    "    else:\n",
    "        train_data_generator = datagen.flow_from_directory(\n",
    "            train_data_dir,\n",
    "            target_size = (img_height, img_width),\n",
    "            batch_size = 64,\n",
    "            class_mode = None,\n",
    "            shuffle = False\n",
    "        )\n",
    "        \n",
    "        train_bottleneck_features = base_model.predict_generator(\n",
    "            train_data_generator,\n",
    "            steps = nb_train_samples / 64,\n",
    "            workers = -1,\n",
    "            use_multiprocessing = True,\n",
    "            verbose = 1,\n",
    "        )\n",
    "        \n",
    "        print('Saving bottleneck_features_train.npy')\n",
    "        np.save(open('bottleneck_features_train.npy', 'wb'), train_bottleneck_features)\n",
    "    \n",
    "    if os.path.exists('bottleneck_features_val.npy') and not force:\n",
    "        print('bottleneck_features_val.npy already exists')\n",
    "    else:\n",
    "        val_data_generator = datagen.flow_from_directory(\n",
    "            val_data_dir,\n",
    "            target_size = (img_height, img_width),\n",
    "            batch_size = 64,\n",
    "            class_mode = None,\n",
    "            shuffle = False\n",
    "        )\n",
    "        \n",
    "        val_bottleneck_features = base_model.predict_generator(\n",
    "            val_data_generator,\n",
    "            steps = nb_val_samples / 64,\n",
    "            workers = -1,\n",
    "            use_multiprocessing = True,\n",
    "            verbose = 1,\n",
    "        )\n",
    "        \n",
    "        print('Saving bottleneck_features_val.npy')\n",
    "        np.save(open('bottleneck_features_val.npy', 'wb'), val_bottleneck_features)"
   ]
  },
  {
   "cell_type": "code",
   "execution_count": 164,
   "metadata": {},
   "outputs": [],
   "source": [
    "assert len(np.concatenate([[i]*train_samples[i] for i in range(len(train_samples))])) == nb_train_samples"
   ]
  },
  {
   "cell_type": "code",
   "execution_count": 165,
   "metadata": {},
   "outputs": [],
   "source": [
    "assert len(np.concatenate([[i]*val_samples[i] for i in range(len(val_samples))])) == nb_val_samples"
   ]
  },
  {
   "cell_type": "code",
   "execution_count": 176,
   "metadata": {},
   "outputs": [],
   "source": [
    "def train_categorical_model():\n",
    "    train_data = np.load(open('bottleneck_features_train.npy', 'rb'))\n",
    "    val_data = np.load(open('bottleneck_features_val.npy', 'rb'))\n",
    "    \n",
    "    train_labels = np.concatenate([[i]*train_samples[i] for i in range(len(train_samples))])\n",
    "    val_labels = np.concatenate([[i]*val_samples[i] for i in range(len(val_samples))])\n",
    "    \n",
    "    train_labels = to_categorical(train_labels)\n",
    "    val_labels = to_categorical(val_labels)\n",
    "    \n",
    "    model = Sequential()\n",
    "    model.add(Flatten(input_shape = (train_data.shape[1:])))     # 8, 8, 512\n",
    "    model.add(Dense(units = 256, activation = 'relu'))\n",
    "    model.add(Dropout(rate = 0.1))\n",
    "    model.add(Dense(units = 256, activation = 'relu'))\n",
    "    model.add(Dropout(rate = 0.1))\n",
    "    model.add(Dense(units = num_classes, activation = 'softmax'))       \n",
    "    \n",
    "    model.compile(optimizer = optimizers.SGD(lr = 0.001, momentum = 0.9),    \n",
    "                  loss = 'categorical_crossentropy',\n",
    "                  metrics = ['accuracy'])\n",
    "    \n",
    "    checkpoint = ModelCheckpoint(\n",
    "        top_categorical_model_wt,\n",
    "        monitor = 'val_acc',\n",
    "        verbose = 1,\n",
    "        save_best_only = True,\n",
    "        save_weights_only = True,\n",
    "        mode = 'auto'\n",
    "    )    \n",
    "    \n",
    "    es = EarlyStopping(\n",
    "        monitor = 'val_loss',\n",
    "        min_delta = 0,\n",
    "        patience = 5,\n",
    "        verbose = 2, \n",
    "        mode = 'auto'\n",
    "    )\n",
    "\n",
    "    fit = model.fit(\n",
    "        train_data,\n",
    "        train_labels,\n",
    "        epochs = epochs,\n",
    "        batch_size = 32,\n",
    "        validation_data = (val_data,val_labels),\n",
    "        callbacks = [checkpoint]\n",
    "    )\n",
    "    \n",
    "    with open('top_history.txt', 'w') as f:\n",
    "        json.dump(fit.history, f)\n",
    "    \n",
    "    return model, fit.history"
   ]
  },
  {
   "cell_type": "code",
   "execution_count": 181,
   "metadata": {},
   "outputs": [],
   "source": [
    "def finetune_categorical_model():\n",
    "    top_model = Sequential()\n",
    "    top_model.add(Flatten(input_shape = (train_data.shape[1:])))     # 8, 8, 512\n",
    "    top_model.add(Dense(units = 256, activation = 'relu'))\n",
    "    top_model.add(Dropout(rate = 0.1))\n",
    "    top_model.add(Dense(units = 256, activation = 'relu'))\n",
    "    top_model.add(Dropout(rate = 0.1))\n",
    "    top_model.add(Dense(units = num_classes, activation = 'softmax'))\n",
    "    \n",
    "    top_model.load_weights('top_categorical_model_wt')\n",
    "    \n",
    "    model = Model(inputs = base_model.input, outputs = top_model(base_model.output))\n",
    "    \n",
    "    print(model.summary())\n",
    "    \n",
    "    model.compile(\n",
    "        optimizer = optimizers.SGD(lr = 0.0001, momentum = 0.9),    # reduced learning rate by 1/10\n",
    "        loss = 'categorical_crossentropy',\n",
    "        metrics = ['accuracy']\n",
    "    )\n",
    "    \n",
    "    # prepare data augmentation configuration\n",
    "    train_datagen = ImageDataGenerator(\n",
    "        preprocessing_function=preprocess_input,\n",
    "        rotation_range = 40,\n",
    "        width_shift_range = 0.2,\n",
    "        height_shift_range = 0.2,\n",
    "        shear_range = 0.2,\n",
    "        zoom_range = 0.2,\n",
    "        horizontal_flip = True,\n",
    "        fill_mode = 'nearest'\n",
    "    )\n",
    "    \n",
    "    test_datagen = ImageDataGenerator(preprocessing_function=preprocess_input)\n",
    "    \n",
    "    train_generator = train_datagen.flow_from_directory(\n",
    "        train_data_dir,\n",
    "        target_size = (img_height, img_width),\n",
    "        batch_size = 32,\n",
    "        class_mode = 'categorical'\n",
    "    )\n",
    "    \n",
    "    test_generator = test_datagen.flow_from_directory(\n",
    "        val_data_dir,\n",
    "        target_size = (img_height, img_width),\n",
    "        batch_size = 32,\n",
    "        class_mode = 'categorical',\n",
    "        shuffle = False\n",
    "    )\n",
    "    \n",
    "    checkpoint = ModelCheckpoint(\n",
    "        filepath = finetuned_categorical_model_wt,\n",
    "        monitor = 'val_acc',\n",
    "        verbose = 1,\n",
    "        save_best_only = True,\n",
    "        save_weights_only = False,\n",
    "        mode = 'auto'\n",
    "    )\n",
    "    \n",
    "    es = EarlyStopping(\n",
    "        monitor = 'val_loss',\n",
    "        min_delta = 0,\n",
    "        patience = 5,\n",
    "        verbose = 2, \n",
    "        mode = 'auto'\n",
    "    )\n",
    "    \n",
    "    # fine-tune the model\n",
    "    fit = model.fit_generator(\n",
    "        train_generator,\n",
    "        steps_per_epoch = nb_train_samples/32,\n",
    "        epochs = epochs,\n",
    "        validation_data = test_generator,\n",
    "        validation_steps = nb_val_samples/32,\n",
    "        verbose = 1,\n",
    "        callbacks = [checkpoint, es],\n",
    "        workers = -1,\n",
    "        use_multiprocessing = True\n",
    "    )\n",
    "\n",
    "    with open('ft_history.txt', 'w') as f:\n",
    "        json.dump(fit.history, f)\n",
    "    \n",
    "    return model, fit.history"
   ]
  },
  {
   "cell_type": "code",
   "execution_count": 150,
   "metadata": {},
   "outputs": [],
   "source": [
    "def print_best_model(history, best = 'val_acc'):\n",
    "    best_epoch = np.argmax(history[best]) + 1\n",
    "    print('epoch:', best_epoch + 1, ', val_acc:', history['val_acc'][best_epoch], ', val_loss:', history['val_loss'][best_epoch])"
   ]
  },
  {
   "cell_type": "code",
   "execution_count": 151,
   "metadata": {},
   "outputs": [],
   "source": [
    "def plot_metrics(history, stop = 50):\n",
    "    fig, axes = plt.subplots(nrows = 1, ncols = 2, figsize = (15,5))\n",
    "    axes = axes.flatten()\n",
    "    \n",
    "    axes[0].plot(np.arange(stop), history['acc'], label='Training', color='#FF533D')\n",
    "    axes[0].plot(np.arange(stop), history['val_acc'], label='Validation', color='#03507E')\n",
    "    axes[0].set_title('Accuracy')\n",
    "    axes[0].set_ylabel('Accuracy')\n",
    "    axes[0].set_xlabel('Epoch')\n",
    "    axes[0].legend(loc='lower right')\n",
    "    \n",
    "    axes[1].plot(np.arange(stop), history['val_acc'], label='Training', color='#FF533D')\n",
    "    axes[1].plot(np.arange(stop), history['val_loss'], label='Validation', color='#03507E')\n",
    "    axes[1].set_title('Loss')\n",
    "    axes[1].set_ylabel('Loss')\n",
    "    axes[1].set_xlabel('Epoch')\n",
    "    axes[1].legend(loc='upper right')\n",
    "    \n",
    "    plt.tight_layout()\n",
    "    \n",
    "    print(\"Best Model: \")\n",
    "    print_best_model_results(hist)"
   ]
  },
  {
   "cell_type": "code",
   "execution_count": 152,
   "metadata": {},
   "outputs": [],
   "source": [
    "def evaluate_categorical_model(model,directory,labels):\n",
    "    test_datagen = ImageDataGenerator(preprocessing_function=preprocess_input)\n",
    "    test_generator = test_datagen.flow_from_directory(directory,\n",
    "                                                     target_size=(img_height,img_width),\n",
    "                                                     batch_size=8,\n",
    "                                                     class_mode='categorical',     # categorical for multiclass\n",
    "                                                     shuffle=False)\n",
    "    \n",
    "    predictions = model.predict_generator(test_generator,\n",
    "                                          labels=len(labels)/8)    #?\n",
    "    \n",
    "    pred_labels = np.argmax(predictions, axis=1)\n",
    "\n",
    "    print()\n",
    "    print(classification_report(labels, pred_labels))        #? import\n",
    "    print()\n",
    "\n",
    "    cm = confusion_matrix(labels, pred_labels)\n",
    "    return cm"
   ]
  },
  {
   "cell_type": "markdown",
   "metadata": {},
   "source": [
    "### Inference"
   ]
  },
  {
   "cell_type": "code",
   "execution_count": 184,
   "metadata": {},
   "outputs": [
    {
     "name": "stdout",
     "output_type": "stream",
     "text": [
      "Found 30983 images belonging to 32 classes.\n"
     ]
    },
    {
     "name": "stderr",
     "output_type": "stream",
     "text": [
      "/home/akash/anaconda3/lib/python3.6/site-packages/keras/preprocessing/image.py:799: UserWarning: This ImageDataGenerator specifies `featurewise_center`, but it hasn't been fit on any training data. Fit it first by calling `.fit(numpy_data)`.\n",
      "  warnings.warn('This ImageDataGenerator specifies '\n"
     ]
    },
    {
     "name": "stdout",
     "output_type": "stream",
     "text": [
      " 49/484 [==>...........................] - ETA: 1:26:07"
     ]
    },
    {
     "name": "stderr",
     "output_type": "stream",
     "text": [
      "ERROR:root:Internal Python error in the inspect module.\n",
      "Below is the traceback from this internal error.\n",
      "\n"
     ]
    },
    {
     "name": "stdout",
     "output_type": "stream",
     "text": [
      "Traceback (most recent call last):\n",
      "  File \"/home/akash/anaconda3/lib/python3.6/site-packages/IPython/core/interactiveshell.py\", line 2910, in run_code\n",
      "    exec(code_obj, self.user_global_ns, self.user_ns)\n",
      "  File \"<ipython-input-184-d32427c0230f>\", line 1, in <module>\n",
      "    save_bottleneck_features(force = True)\n",
      "  File \"<ipython-input-183-2fa7cbb488a8>\", line 20, in save_bottleneck_features\n",
      "    verbose = 1,\n",
      "  File \"/home/akash/anaconda3/lib/python3.6/site-packages/keras/legacy/interfaces.py\", line 91, in wrapper\n",
      "    return func(*args, **kwargs)\n",
      "  File \"/home/akash/anaconda3/lib/python3.6/site-packages/keras/engine/training.py\", line 2540, in predict_generator\n",
      "    outs = self.predict_on_batch(x)\n",
      "  File \"/home/akash/anaconda3/lib/python3.6/site-packages/keras/engine/training.py\", line 1945, in predict_on_batch\n",
      "    outputs = self.predict_function(ins)\n",
      "  File \"/home/akash/anaconda3/lib/python3.6/site-packages/keras/backend/tensorflow_backend.py\", line 2482, in __call__\n",
      "    **self.session_kwargs)\n",
      "  File \"/home/akash/anaconda3/lib/python3.6/site-packages/tensorflow/python/client/session.py\", line 900, in run\n",
      "    run_metadata_ptr)\n",
      "  File \"/home/akash/anaconda3/lib/python3.6/site-packages/tensorflow/python/client/session.py\", line 1135, in _run\n",
      "    feed_dict_tensor, options, run_metadata)\n",
      "  File \"/home/akash/anaconda3/lib/python3.6/site-packages/tensorflow/python/client/session.py\", line 1316, in _do_run\n",
      "    run_metadata)\n",
      "  File \"/home/akash/anaconda3/lib/python3.6/site-packages/tensorflow/python/client/session.py\", line 1322, in _do_call\n",
      "    return fn(*args)\n",
      "  File \"/home/akash/anaconda3/lib/python3.6/site-packages/tensorflow/python/client/session.py\", line 1307, in _run_fn\n",
      "    options, feed_dict, fetch_list, target_list, run_metadata)\n",
      "  File \"/home/akash/anaconda3/lib/python3.6/site-packages/tensorflow/python/client/session.py\", line 1409, in _call_tf_sessionrun\n",
      "    run_metadata)\n",
      "KeyboardInterrupt\n",
      "\n",
      "During handling of the above exception, another exception occurred:\n",
      "\n",
      "Traceback (most recent call last):\n",
      "  File \"/home/akash/anaconda3/lib/python3.6/site-packages/IPython/core/interactiveshell.py\", line 1828, in showtraceback\n",
      "    stb = value._render_traceback_()\n",
      "AttributeError: 'KeyboardInterrupt' object has no attribute '_render_traceback_'\n",
      "\n",
      "During handling of the above exception, another exception occurred:\n",
      "\n",
      "Traceback (most recent call last):\n",
      "  File \"/home/akash/anaconda3/lib/python3.6/site-packages/IPython/core/ultratb.py\", line 1090, in get_records\n",
      "    return _fixed_getinnerframes(etb, number_of_lines_of_context, tb_offset)\n",
      "  File \"/home/akash/anaconda3/lib/python3.6/site-packages/IPython/core/ultratb.py\", line 311, in wrapped\n",
      "    return f(*args, **kwargs)\n",
      "  File \"/home/akash/anaconda3/lib/python3.6/site-packages/IPython/core/ultratb.py\", line 345, in _fixed_getinnerframes\n",
      "    records = fix_frame_records_filenames(inspect.getinnerframes(etb, context))\n",
      "  File \"/home/akash/anaconda3/lib/python3.6/inspect.py\", line 1480, in getinnerframes\n",
      "    frameinfo = (tb.tb_frame,) + getframeinfo(tb, context)\n",
      "  File \"/home/akash/anaconda3/lib/python3.6/inspect.py\", line 1438, in getframeinfo\n",
      "    filename = getsourcefile(frame) or getfile(frame)\n",
      "  File \"/home/akash/anaconda3/lib/python3.6/inspect.py\", line 693, in getsourcefile\n",
      "    if getattr(getmodule(object, filename), '__loader__', None) is not None:\n",
      "  File \"/home/akash/anaconda3/lib/python3.6/inspect.py\", line 730, in getmodule\n",
      "    if ismodule(module) and hasattr(module, '__file__'):\n",
      "KeyboardInterrupt\n"
     ]
    },
    {
     "ename": "KeyboardInterrupt",
     "evalue": "",
     "output_type": "error",
     "traceback": [
      "\u001b[0;31m---------------------------------------------------------------------------\u001b[0m"
     ]
    }
   ],
   "source": [
    "save_bottleneck_features(force = True)"
   ]
  },
  {
   "cell_type": "code",
   "execution_count": 177,
   "metadata": {},
   "outputs": [
    {
     "ename": "ValueError",
     "evalue": "Input arrays should have the same number of samples as target arrays. Found 1952 input samples and 7761 target samples.",
     "output_type": "error",
     "traceback": [
      "\u001b[0;31m---------------------------------------------------------------------------\u001b[0m",
      "\u001b[0;31mValueError\u001b[0m                                Traceback (most recent call last)",
      "\u001b[0;32m<ipython-input-177-e125da8a9b8f>\u001b[0m in \u001b[0;36m<module>\u001b[0;34m()\u001b[0m\n\u001b[0;32m----> 1\u001b[0;31m \u001b[0mtop_model\u001b[0m\u001b[0;34m,\u001b[0m \u001b[0mtop_history\u001b[0m \u001b[0;34m=\u001b[0m \u001b[0mtrain_categorical_model\u001b[0m\u001b[0;34m(\u001b[0m\u001b[0;34m)\u001b[0m\u001b[0;34m\u001b[0m\u001b[0m\n\u001b[0m",
      "\u001b[0;32m<ipython-input-176-650c55401e0b>\u001b[0m in \u001b[0;36mtrain_categorical_model\u001b[0;34m()\u001b[0m\n\u001b[1;32m     44\u001b[0m         \u001b[0mbatch_size\u001b[0m \u001b[0;34m=\u001b[0m \u001b[0;36m32\u001b[0m\u001b[0;34m,\u001b[0m\u001b[0;34m\u001b[0m\u001b[0m\n\u001b[1;32m     45\u001b[0m         \u001b[0mvalidation_data\u001b[0m \u001b[0;34m=\u001b[0m \u001b[0;34m(\u001b[0m\u001b[0mval_data\u001b[0m\u001b[0;34m,\u001b[0m\u001b[0mval_labels\u001b[0m\u001b[0;34m)\u001b[0m\u001b[0;34m,\u001b[0m\u001b[0;34m\u001b[0m\u001b[0m\n\u001b[0;32m---> 46\u001b[0;31m         \u001b[0mcallbacks\u001b[0m \u001b[0;34m=\u001b[0m \u001b[0;34m[\u001b[0m\u001b[0mcheckpoint\u001b[0m\u001b[0;34m]\u001b[0m\u001b[0;34m\u001b[0m\u001b[0m\n\u001b[0m\u001b[1;32m     47\u001b[0m     )\n\u001b[1;32m     48\u001b[0m \u001b[0;34m\u001b[0m\u001b[0m\n",
      "\u001b[0;32m~/anaconda3/lib/python3.6/site-packages/keras/models.py\u001b[0m in \u001b[0;36mfit\u001b[0;34m(self, x, y, batch_size, epochs, verbose, callbacks, validation_split, validation_data, shuffle, class_weight, sample_weight, initial_epoch, steps_per_epoch, validation_steps, **kwargs)\u001b[0m\n\u001b[1;32m   1000\u001b[0m                               \u001b[0minitial_epoch\u001b[0m\u001b[0;34m=\u001b[0m\u001b[0minitial_epoch\u001b[0m\u001b[0;34m,\u001b[0m\u001b[0;34m\u001b[0m\u001b[0m\n\u001b[1;32m   1001\u001b[0m                               \u001b[0msteps_per_epoch\u001b[0m\u001b[0;34m=\u001b[0m\u001b[0msteps_per_epoch\u001b[0m\u001b[0;34m,\u001b[0m\u001b[0;34m\u001b[0m\u001b[0m\n\u001b[0;32m-> 1002\u001b[0;31m                               validation_steps=validation_steps)\n\u001b[0m\u001b[1;32m   1003\u001b[0m \u001b[0;34m\u001b[0m\u001b[0m\n\u001b[1;32m   1004\u001b[0m     def evaluate(self, x=None, y=None,\n",
      "\u001b[0;32m~/anaconda3/lib/python3.6/site-packages/keras/engine/training.py\u001b[0m in \u001b[0;36mfit\u001b[0;34m(self, x, y, batch_size, epochs, verbose, callbacks, validation_split, validation_data, shuffle, class_weight, sample_weight, initial_epoch, steps_per_epoch, validation_steps, **kwargs)\u001b[0m\n\u001b[1;32m   1648\u001b[0m                 \u001b[0mval_x\u001b[0m\u001b[0;34m,\u001b[0m \u001b[0mval_y\u001b[0m\u001b[0;34m,\u001b[0m\u001b[0;34m\u001b[0m\u001b[0m\n\u001b[1;32m   1649\u001b[0m                 \u001b[0msample_weight\u001b[0m\u001b[0;34m=\u001b[0m\u001b[0mval_sample_weight\u001b[0m\u001b[0;34m,\u001b[0m\u001b[0;34m\u001b[0m\u001b[0m\n\u001b[0;32m-> 1650\u001b[0;31m                 batch_size=batch_size)\n\u001b[0m\u001b[1;32m   1651\u001b[0m             \u001b[0;32mif\u001b[0m \u001b[0mself\u001b[0m\u001b[0;34m.\u001b[0m\u001b[0muses_learning_phase\u001b[0m \u001b[0;32mand\u001b[0m \u001b[0;32mnot\u001b[0m \u001b[0misinstance\u001b[0m\u001b[0;34m(\u001b[0m\u001b[0mK\u001b[0m\u001b[0;34m.\u001b[0m\u001b[0mlearning_phase\u001b[0m\u001b[0;34m(\u001b[0m\u001b[0;34m)\u001b[0m\u001b[0;34m,\u001b[0m \u001b[0mint\u001b[0m\u001b[0;34m)\u001b[0m\u001b[0;34m:\u001b[0m\u001b[0;34m\u001b[0m\u001b[0m\n\u001b[1;32m   1652\u001b[0m                 \u001b[0mval_ins\u001b[0m \u001b[0;34m=\u001b[0m \u001b[0mval_x\u001b[0m \u001b[0;34m+\u001b[0m \u001b[0mval_y\u001b[0m \u001b[0;34m+\u001b[0m \u001b[0mval_sample_weights\u001b[0m \u001b[0;34m+\u001b[0m \u001b[0;34m[\u001b[0m\u001b[0;36m0.\u001b[0m\u001b[0;34m]\u001b[0m\u001b[0;34m\u001b[0m\u001b[0m\n",
      "\u001b[0;32m~/anaconda3/lib/python3.6/site-packages/keras/engine/training.py\u001b[0m in \u001b[0;36m_standardize_user_data\u001b[0;34m(self, x, y, sample_weight, class_weight, check_array_lengths, batch_size)\u001b[0m\n\u001b[1;32m   1488\u001b[0m \u001b[0;34m\u001b[0m\u001b[0m\n\u001b[1;32m   1489\u001b[0m         \u001b[0;32mif\u001b[0m \u001b[0mcheck_array_lengths\u001b[0m\u001b[0;34m:\u001b[0m\u001b[0;34m\u001b[0m\u001b[0m\n\u001b[0;32m-> 1490\u001b[0;31m             \u001b[0m_check_array_lengths\u001b[0m\u001b[0;34m(\u001b[0m\u001b[0mx\u001b[0m\u001b[0;34m,\u001b[0m \u001b[0my\u001b[0m\u001b[0;34m,\u001b[0m \u001b[0msample_weights\u001b[0m\u001b[0;34m)\u001b[0m\u001b[0;34m\u001b[0m\u001b[0m\n\u001b[0m\u001b[1;32m   1491\u001b[0m         _check_loss_and_target_compatibility(y,\n\u001b[1;32m   1492\u001b[0m                                              \u001b[0mself\u001b[0m\u001b[0;34m.\u001b[0m\u001b[0m_feed_loss_fns\u001b[0m\u001b[0;34m,\u001b[0m\u001b[0;34m\u001b[0m\u001b[0m\n",
      "\u001b[0;32m~/anaconda3/lib/python3.6/site-packages/keras/engine/training.py\u001b[0m in \u001b[0;36m_check_array_lengths\u001b[0;34m(inputs, targets, weights)\u001b[0m\n\u001b[1;32m    218\u001b[0m                          \u001b[0;34m'the same number of samples as target arrays. '\u001b[0m\u001b[0;34m\u001b[0m\u001b[0m\n\u001b[1;32m    219\u001b[0m                          \u001b[0;34m'Found '\u001b[0m \u001b[0;34m+\u001b[0m \u001b[0mstr\u001b[0m\u001b[0;34m(\u001b[0m\u001b[0mlist\u001b[0m\u001b[0;34m(\u001b[0m\u001b[0mset_x\u001b[0m\u001b[0;34m)\u001b[0m\u001b[0;34m[\u001b[0m\u001b[0;36m0\u001b[0m\u001b[0;34m]\u001b[0m\u001b[0;34m)\u001b[0m \u001b[0;34m+\u001b[0m \u001b[0;34m' input samples '\u001b[0m\u001b[0;34m\u001b[0m\u001b[0m\n\u001b[0;32m--> 220\u001b[0;31m                          'and ' + str(list(set_y)[0]) + ' target samples.')\n\u001b[0m\u001b[1;32m    221\u001b[0m     \u001b[0;32mif\u001b[0m \u001b[0mlen\u001b[0m\u001b[0;34m(\u001b[0m\u001b[0mset_w\u001b[0m\u001b[0;34m)\u001b[0m \u001b[0;34m>\u001b[0m \u001b[0;36m1\u001b[0m\u001b[0;34m:\u001b[0m\u001b[0;34m\u001b[0m\u001b[0m\n\u001b[1;32m    222\u001b[0m         raise ValueError('All sample_weight arrays should have '\n",
      "\u001b[0;31mValueError\u001b[0m: Input arrays should have the same number of samples as target arrays. Found 1952 input samples and 7761 target samples."
     ]
    }
   ],
   "source": [
    "top_model, top_history = train_categorical_model()"
   ]
  },
  {
   "cell_type": "code",
   "execution_count": null,
   "metadata": {},
   "outputs": [],
   "source": [
    "ft_model, ft_history = finetune_categorical_model()"
   ]
  },
  {
   "cell_type": "code",
   "execution_count": null,
   "metadata": {},
   "outputs": [],
   "source": []
  }
 ],
 "metadata": {
  "kernelspec": {
   "display_name": "Python 3",
   "language": "python",
   "name": "python3"
  },
  "language_info": {
   "codemirror_mode": {
    "name": "ipython",
    "version": 3
   },
   "file_extension": ".py",
   "mimetype": "text/x-python",
   "name": "python",
   "nbconvert_exporter": "python",
   "pygments_lexer": "ipython3",
   "version": "3.6.2"
  }
 },
 "nbformat": 4,
 "nbformat_minor": 2
}
